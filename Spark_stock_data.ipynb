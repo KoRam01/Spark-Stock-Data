{
  "nbformat": 4,
  "nbformat_minor": 0,
  "metadata": {
    "colab": {
      "provenance": []
    },
    "kernelspec": {
      "name": "python3",
      "display_name": "Python 3"
    },
    "language_info": {
      "name": "python"
    }
  },
  "cells": [
    {
      "cell_type": "code",
      "execution_count": 2,
      "metadata": {
        "colab": {
          "base_uri": "https://localhost:8080/"
        },
        "id": "X2zzMFQiaxZI",
        "outputId": "c3640591-2250-4183-cd71-a5f2f52775ee"
      },
      "outputs": [
        {
          "output_type": "stream",
          "name": "stdout",
          "text": [
            "Requirement already satisfied: pyspark in /usr/local/lib/python3.10/dist-packages (3.5.3)\n",
            "Requirement already satisfied: py4j==0.10.9.7 in /usr/local/lib/python3.10/dist-packages (from pyspark) (0.10.9.7)\n"
          ]
        }
      ],
      "source": [
        "!pip install pyspark"
      ]
    },
    {
      "cell_type": "code",
      "source": [
        "from google.colab import drive\n",
        "drive.mount('/content/drive')"
      ],
      "metadata": {
        "colab": {
          "base_uri": "https://localhost:8080/"
        },
        "id": "vSb4ccNC0q2J",
        "outputId": "d6edb251-bcd6-4bb6-8563-3368394f2db4"
      },
      "execution_count": 4,
      "outputs": [
        {
          "output_type": "stream",
          "name": "stdout",
          "text": [
            "Drive already mounted at /content/drive; to attempt to forcibly remount, call drive.mount(\"/content/drive\", force_remount=True).\n"
          ]
        }
      ]
    },
    {
      "cell_type": "code",
      "source": [
        "import pyspark\n",
        "#"
      ],
      "metadata": {
        "id": "_KpZHqhza2Tn"
      },
      "execution_count": 110,
      "outputs": []
    },
    {
      "cell_type": "code",
      "source": [
        "from pyspark.sql import SparkSession\n",
        "spark = SparkSession.builder.appName('Stock_test').getOrCreate()\n",
        "stock_price = [('MSFT','2022-05-20','310'), ('MSFT','2022-05-21','300'), ('MSFT','2022-05-22','320')]"
      ],
      "metadata": {
        "id": "h2tdEbKLdbPe"
      },
      "execution_count": 142,
      "outputs": []
    },
    {
      "cell_type": "code",
      "source": [
        "df = spark.createDataFrame(data = stock_price, schema = ['Stock','Date','Price'])\n",
        "df.show()"
      ],
      "metadata": {
        "colab": {
          "base_uri": "https://localhost:8080/"
        },
        "id": "S08-hyAUdtd-",
        "outputId": "e1718576-9e3f-416c-d6f9-e74db91ede10"
      },
      "execution_count": 143,
      "outputs": [
        {
          "output_type": "stream",
          "name": "stdout",
          "text": [
            "+-----+----------+-----+\n",
            "|Stock|      Date|Price|\n",
            "+-----+----------+-----+\n",
            "| MSFT|2022-05-20|  310|\n",
            "| MSFT|2022-05-21|  300|\n",
            "| MSFT|2022-05-22|  320|\n",
            "+-----+----------+-----+\n",
            "\n"
          ]
        }
      ]
    },
    {
      "cell_type": "code",
      "source": [
        "stocks = spark.read.csv('/content/drive/MyDrive/Stock_Data')\n"
      ],
      "metadata": {
        "id": "oJrWRfP8hLES"
      },
      "execution_count": 181,
      "outputs": []
    },
    {
      "cell_type": "code",
      "source": [
        "stocks.show()"
      ],
      "metadata": {
        "colab": {
          "base_uri": "https://localhost:8080/"
        },
        "id": "SOoTzIfFvKdh",
        "outputId": "edbf018c-85ef-4c4c-b54f-6437aa5f395d"
      },
      "execution_count": 182,
      "outputs": [
        {
          "output_type": "stream",
          "name": "stdout",
          "text": [
            "+------+----------+----------+-------+--------+--------+--------+\n",
            "|   _c0|       _c1|       _c2|    _c3|     _c4|     _c5|     _c6|\n",
            "+------+----------+----------+-------+--------+--------+--------+\n",
            "|Ticker|      Date|Close/Last| Volume|    Open|    High|     Low|\n",
            "| BRK-B|05/31/2023|  $321.08 |6175417|$321.12 |$322.41 |$319.39 |\n",
            "| BRK-B|05/30/2023|  $322.19 |3232461|$321.86 |$322.47 |$319.00 |\n",
            "| BRK-B|05/26/2023|  $320.60 |3229873|$320.44 |$322.63 |$319.67 |\n",
            "| BRK-B|05/25/2023|  $319.02 |4251935|$320.56 |$320.56 |$317.71 |\n",
            "| BRK-B|05/24/2023|  $320.20 |3075393|$322.71 |$323.00 |$319.56 |\n",
            "| BRK-B|05/23/2023|  $323.11 |4031342|$328.19 |$329.27 |$322.97 |\n",
            "| BRK-B|05/22/2023|  $329.13 |2763422|$330.75 |$331.49 |$328.35 |\n",
            "| BRK-B|05/19/2023|  $330.39 |4323538|$331.00 |$333.94 |$329.12 |\n",
            "| BRK-B|05/18/2023|  $329.76 |2808329|$326.87 |$329.98 |$325.85 |\n",
            "| BRK-B|05/17/2023|  $327.39 |3047626|$325.02 |$328.26 |$324.82 |\n",
            "| BRK-B|05/16/2023|  $323.75 |2139996|$322.46 |$324.69 |$322.36 |\n",
            "| BRK-B|05/15/2023|  $323.53 |2191609|$322.89 |$323.83 |$320.13 |\n",
            "| BRK-B|05/12/2023|  $322.49 |1938264|$323.82 |$324.24 |$320.54 |\n",
            "| BRK-B|05/11/2023|  $322.64 |2549339|$321.00 |$322.96 |$319.81 |\n",
            "| BRK-B|05/10/2023|  $322.99 |2641134|$326.08 |$326.16 |$320.15 |\n",
            "| BRK-B|05/09/2023|  $324.87 |2285924|$324.87 |$326.88 |$323.48 |\n",
            "| BRK-B|05/08/2023|  $326.14 |3303393|$328.26 |$330.69 |$325.79 |\n",
            "| BRK-B|05/05/2023|  $323.88 |3876299|$323.36 |$325.16 |$322.62 |\n",
            "| BRK-B|05/04/2023|  $320.00 |3194768|$323.44 |$325.99 |$317.41 |\n",
            "+------+----------+----------+-------+--------+--------+--------+\n",
            "only showing top 20 rows\n",
            "\n"
          ]
        }
      ]
    },
    {
      "cell_type": "code",
      "source": [
        "stocks.printSchema()"
      ],
      "metadata": {
        "colab": {
          "base_uri": "https://localhost:8080/"
        },
        "id": "qyE8JypS1GZX",
        "outputId": "277d20b9-731f-4b41-fd34-b184a2f62b22"
      },
      "execution_count": 183,
      "outputs": [
        {
          "output_type": "stream",
          "name": "stdout",
          "text": [
            "root\n",
            " |-- _c0: string (nullable = true)\n",
            " |-- _c1: string (nullable = true)\n",
            " |-- _c2: string (nullable = true)\n",
            " |-- _c3: string (nullable = true)\n",
            " |-- _c4: string (nullable = true)\n",
            " |-- _c5: string (nullable = true)\n",
            " |-- _c6: string (nullable = true)\n",
            "\n"
          ]
        }
      ]
    },
    {
      "cell_type": "code",
      "source": [
        "stocks.select(\"_c0\").show()"
      ],
      "metadata": {
        "colab": {
          "base_uri": "https://localhost:8080/"
        },
        "id": "e3nQ-SQh5lMW",
        "outputId": "988746f6-5ec9-4280-9a06-bf0ec0d9846b"
      },
      "execution_count": 184,
      "outputs": [
        {
          "output_type": "stream",
          "name": "stdout",
          "text": [
            "+------+\n",
            "|   _c0|\n",
            "+------+\n",
            "|Ticker|\n",
            "| BRK-B|\n",
            "| BRK-B|\n",
            "| BRK-B|\n",
            "| BRK-B|\n",
            "| BRK-B|\n",
            "| BRK-B|\n",
            "| BRK-B|\n",
            "| BRK-B|\n",
            "| BRK-B|\n",
            "| BRK-B|\n",
            "| BRK-B|\n",
            "| BRK-B|\n",
            "| BRK-B|\n",
            "| BRK-B|\n",
            "| BRK-B|\n",
            "| BRK-B|\n",
            "| BRK-B|\n",
            "| BRK-B|\n",
            "| BRK-B|\n",
            "+------+\n",
            "only showing top 20 rows\n",
            "\n"
          ]
        }
      ]
    },
    {
      "cell_type": "code",
      "source": [
        "stocks.filter(stocks['_c0'] == 'MSFT').show()"
      ],
      "metadata": {
        "colab": {
          "base_uri": "https://localhost:8080/"
        },
        "id": "yuOReIWAiCam",
        "outputId": "9ae2130c-0197-4d4b-c666-a125f7994f66"
      },
      "execution_count": 185,
      "outputs": [
        {
          "output_type": "stream",
          "name": "stdout",
          "text": [
            "+----+----------+--------+--------+--------+--------+--------+\n",
            "| _c0|       _c1|     _c2|     _c3|     _c4|     _c5|     _c6|\n",
            "+----+----------+--------+--------+--------+--------+--------+\n",
            "|MSFT|05/31/2023|$328.39 |45950550|$332.29 |$335.94 |$327.33 |\n",
            "|MSFT|05/30/2023|$331.21 |29503070|$335.23 |$335.74 |$330.52 |\n",
            "|MSFT|05/26/2023|$332.89 |36630630|$324.02 |$333.40 |$323.88 |\n",
            "|MSFT|05/25/2023|$325.92 |43301740|$323.24 |$326.90 |$320.00 |\n",
            "|MSFT|05/24/2023|$313.85 |23384890|$314.73 |$316.50 |$312.61 |\n",
            "|MSFT|05/23/2023|$315.26 |30797170|$320.03 |$322.72 |$315.25 |\n",
            "|MSFT|05/22/2023|$321.18 |24115660|$318.60 |$322.59 |$318.01 |\n",
            "|MSFT|05/19/2023|$318.34 |27546700|$316.74 |$318.75 |$316.37 |\n",
            "|MSFT|05/18/2023|$318.52 |27275990|$314.53 |$319.04 |$313.72 |\n",
            "|MSFT|05/17/2023|$314.00 |24315010|$312.29 |$314.43 |$310.74 |\n",
            "|MSFT|05/16/2023|$311.74 |26730350|$309.83 |$313.71 |$309.83 |\n",
            "|MSFT|05/15/2023|$309.46 |16336550|$309.10 |$309.91 |$307.59 |\n",
            "|MSFT|05/12/2023|$308.97 |19774700|$310.55 |$310.65 |$306.60 |\n",
            "|MSFT|05/11/2023|$310.11 |31680180|$310.10 |$311.12 |$306.26 |\n",
            "|MSFT|05/10/2023|$312.31 |30078040|$308.62 |$313.00 |$307.67 |\n",
            "|MSFT|05/09/2023|$307.00 |21340830|$308.00 |$310.04 |$306.31 |\n",
            "|MSFT|05/08/2023|$308.65 |21318610|$310.13 |$310.20 |$306.09 |\n",
            "|MSFT|05/05/2023|$310.65 |28197050|$305.72 |$311.97 |$304.27 |\n",
            "|MSFT|05/04/2023|$305.41 |22519910|$306.24 |$307.76 |$303.40 |\n",
            "|MSFT|05/03/2023|$304.40 |22360750|$306.62 |$308.61 |$304.09 |\n",
            "+----+----------+--------+--------+--------+--------+--------+\n",
            "only showing top 20 rows\n",
            "\n"
          ]
        }
      ]
    },
    {
      "cell_type": "code",
      "source": [
        "from pyspark.sql.functions import udf\n",
        "from pyspark.sql.types import DateType\n",
        "from datetime import datetime"
      ],
      "metadata": {
        "id": "c_5b-G0ew_rZ"
      },
      "execution_count": 186,
      "outputs": []
    },
    {
      "cell_type": "code",
      "source": [],
      "metadata": {
        "id": "WWY6YKO6yZJ_"
      },
      "execution_count": null,
      "outputs": []
    },
    {
      "cell_type": "code",
      "source": [
        "date_parser = udf(lambda date: datetime.strptime(date, \"%m/%d/%Y\"), DateType())"
      ],
      "metadata": {
        "id": "yMPMSa5zyJ-O"
      },
      "execution_count": 187,
      "outputs": []
    },
    {
      "cell_type": "code",
      "source": [
        "stocks.withColumn(\"Date\", date_parser(stocks._c1))"
      ],
      "metadata": {
        "colab": {
          "base_uri": "https://localhost:8080/"
        },
        "id": "fbLajrxyGsys",
        "outputId": "e86a7499-5800-4b6c-a791-a601a9292cfe"
      },
      "execution_count": 188,
      "outputs": [
        {
          "output_type": "execute_result",
          "data": {
            "text/plain": [
              "DataFrame[_c0: string, _c1: string, _c2: string, _c3: string, _c4: string, _c5: string, _c6: string, Date: date]"
            ]
          },
          "metadata": {},
          "execution_count": 188
        }
      ]
    },
    {
      "cell_type": "code",
      "source": [
        "stocks.show(5)"
      ],
      "metadata": {
        "colab": {
          "base_uri": "https://localhost:8080/"
        },
        "id": "0qMgN5pvJMqi",
        "outputId": "5c36cd37-d8d9-48d3-dc9b-745bbb92d98a"
      },
      "execution_count": 189,
      "outputs": [
        {
          "output_type": "stream",
          "name": "stdout",
          "text": [
            "+------+----------+----------+-------+--------+--------+--------+\n",
            "|   _c0|       _c1|       _c2|    _c3|     _c4|     _c5|     _c6|\n",
            "+------+----------+----------+-------+--------+--------+--------+\n",
            "|Ticker|      Date|Close/Last| Volume|    Open|    High|     Low|\n",
            "| BRK-B|05/31/2023|  $321.08 |6175417|$321.12 |$322.41 |$319.39 |\n",
            "| BRK-B|05/30/2023|  $322.19 |3232461|$321.86 |$322.47 |$319.00 |\n",
            "| BRK-B|05/26/2023|  $320.60 |3229873|$320.44 |$322.63 |$319.67 |\n",
            "| BRK-B|05/25/2023|  $319.02 |4251935|$320.56 |$320.56 |$317.71 |\n",
            "+------+----------+----------+-------+--------+--------+--------+\n",
            "only showing top 5 rows\n",
            "\n"
          ]
        }
      ]
    },
    {
      "cell_type": "code",
      "source": [
        "stocks = stocks.selectExpr(\"_c5 as High\", \"_c6 as Low\", \"_c2 as Close\", \"_c1 as Date\", \"_c0 as Ticker\", \"_c3 as Volume\", \"_c4 as Open\" )"
      ],
      "metadata": {
        "id": "VEdoQPtHC6yE"
      },
      "execution_count": 190,
      "outputs": []
    },
    {
      "cell_type": "code",
      "source": [
        "from pyspark.sql.functions import monotonically_increasing_id\n",
        "\n",
        "stocks = stocks.withColumn(\"index\", monotonically_increasing_id())\n",
        "stocks = stocks.filter(stocks.index != 0).drop(\"index\")"
      ],
      "metadata": {
        "id": "dOqjGqUnEzNO"
      },
      "execution_count": 191,
      "outputs": []
    },
    {
      "cell_type": "markdown",
      "source": [],
      "metadata": {
        "id": "_sGV6XBqFZWl"
      }
    },
    {
      "cell_type": "code",
      "source": [
        "stocks.show(5)"
      ],
      "metadata": {
        "colab": {
          "base_uri": "https://localhost:8080/"
        },
        "id": "-5SMXQhz9WbE",
        "outputId": "95b22468-6224-4808-c1dc-353edc4bf42c"
      },
      "execution_count": 192,
      "outputs": [
        {
          "output_type": "stream",
          "name": "stdout",
          "text": [
            "+--------+--------+--------+----------+------+-------+--------+\n",
            "|    High|     Low|   Close|      Date|Ticker| Volume|    Open|\n",
            "+--------+--------+--------+----------+------+-------+--------+\n",
            "|$322.41 |$319.39 |$321.08 |05/31/2023| BRK-B|6175417|$321.12 |\n",
            "|$322.47 |$319.00 |$322.19 |05/30/2023| BRK-B|3232461|$321.86 |\n",
            "|$322.63 |$319.67 |$320.60 |05/26/2023| BRK-B|3229873|$320.44 |\n",
            "|$320.56 |$317.71 |$319.02 |05/25/2023| BRK-B|4251935|$320.56 |\n",
            "|$323.00 |$319.56 |$320.20 |05/24/2023| BRK-B|3075393|$322.71 |\n",
            "+--------+--------+--------+----------+------+-------+--------+\n",
            "only showing top 5 rows\n",
            "\n"
          ]
        }
      ]
    },
    {
      "cell_type": "code",
      "source": [
        "print(df)"
      ],
      "metadata": {
        "colab": {
          "base_uri": "https://localhost:8080/"
        },
        "id": "kdf7Ikf19MtU",
        "outputId": "bfae0352-815d-48f1-bf99-1f623db34324"
      },
      "execution_count": 193,
      "outputs": [
        {
          "output_type": "stream",
          "name": "stdout",
          "text": [
            "DataFrame[Stock: string, Date: string, Price: string]\n"
          ]
        }
      ]
    },
    {
      "cell_type": "code",
      "source": [
        "def num_parser(value):\n",
        "    if isinstance(value, str):\n",
        "        return float(value.strip(\"$\"))\n",
        "    elif isinstance(value, int) or isinstance(value, float):\n",
        "        return value\n",
        "    else:\n",
        "        return None\n",
        "\n",
        "from pyspark.sql.types import FloatType\n",
        "parser_number = udf(num_parser, FloatType())\n",
        "\n",
        "print(num_parser(\"5.5\"))\n",
        "print(num_parser(\"$5.5\"))"
      ],
      "metadata": {
        "colab": {
          "base_uri": "https://localhost:8080/"
        },
        "id": "nSop6YOcLSGP",
        "outputId": "f57d444e-8259-4f4b-b39f-41366c7f021d"
      },
      "execution_count": 195,
      "outputs": [
        {
          "output_type": "stream",
          "name": "stdout",
          "text": [
            "5.5\n",
            "5.5\n"
          ]
        }
      ]
    },
    {
      "cell_type": "code",
      "source": [],
      "metadata": {
        "id": "ank5bZ9cQcnR"
      },
      "execution_count": 90,
      "outputs": []
    },
    {
      "cell_type": "code",
      "source": [
        "stocks = stocks.withColumn(\"Open\", parser_number(stocks.Open))\n",
        "stocks = stocks.withColumn(\"High\", parser_number(stocks.High))\n",
        "stocks = stocks.withColumn(\"Low\", parser_number(stocks.Low))\n",
        "stocks = stocks.withColumn(\"Close\", parser_number(stocks.Close))\n"
      ],
      "metadata": {
        "id": "PwumstgbfBL9"
      },
      "execution_count": 158,
      "outputs": []
    },
    {
      "cell_type": "code",
      "source": [
        "stocks.printSchema()"
      ],
      "metadata": {
        "colab": {
          "base_uri": "https://localhost:8080/"
        },
        "collapsed": true,
        "id": "EKFW6Y18urK_",
        "outputId": "676918ea-18ff-47ac-fd19-1467e4874652"
      },
      "execution_count": 159,
      "outputs": [
        {
          "output_type": "stream",
          "name": "stdout",
          "text": [
            "root\n",
            " |-- High: float (nullable = true)\n",
            " |-- Low: float (nullable = true)\n",
            " |-- Close: float (nullable = true)\n",
            " |-- Date: string (nullable = true)\n",
            " |-- Ticker: string (nullable = true)\n",
            " |-- Volume: string (nullable = true)\n",
            " |-- Open: float (nullable = true)\n",
            "\n"
          ]
        }
      ]
    },
    {
      "cell_type": "code",
      "source": [
        "from pyspark.sql.types import IntegerType\n",
        "parse_int = udf(lambda value: int(value), IntegerType())"
      ],
      "metadata": {
        "id": "overwpPQurnY"
      },
      "execution_count": 160,
      "outputs": []
    },
    {
      "cell_type": "code",
      "source": [
        "## Changing the datatype of the column\n",
        "stocks = stocks.withColumn(\"Volume\", parse_int(stocks.Volume))"
      ],
      "metadata": {
        "id": "b4t6PkP2utfo"
      },
      "execution_count": 161,
      "outputs": []
    },
    {
      "cell_type": "code",
      "source": [
        "\n",
        "stocks.printSchema()"
      ],
      "metadata": {
        "colab": {
          "base_uri": "https://localhost:8080/"
        },
        "id": "DQF2Y2xcxBrj",
        "outputId": "de6d4c32-f0db-4254-a415-09fa63c38fe2"
      },
      "execution_count": 162,
      "outputs": [
        {
          "output_type": "stream",
          "name": "stdout",
          "text": [
            "root\n",
            " |-- High: float (nullable = true)\n",
            " |-- Low: float (nullable = true)\n",
            " |-- Close: float (nullable = true)\n",
            " |-- Date: string (nullable = true)\n",
            " |-- Ticker: string (nullable = true)\n",
            " |-- Volume: integer (nullable = true)\n",
            " |-- Open: float (nullable = true)\n",
            "\n"
          ]
        }
      ]
    },
    {
      "cell_type": "code",
      "source": [
        "cleaned_stocks = stocks.select([\"Ticker\", \"Date\", \"Volume\", \"Open\", \"Low\", \"High\", \"Close\"])"
      ],
      "metadata": {
        "id": "6U1AIJ4YxFfv"
      },
      "execution_count": 163,
      "outputs": []
    },
    {
      "cell_type": "code",
      "source": [
        "cleaned_stocks.show(5)"
      ],
      "metadata": {
        "colab": {
          "base_uri": "https://localhost:8080/"
        },
        "id": "i_SyBGBc3feg",
        "outputId": "504a8610-9642-4217-831c-3726c33d662b"
      },
      "execution_count": 180,
      "outputs": [
        {
          "output_type": "stream",
          "name": "stdout",
          "text": [
            "+------+----+------+----+---+----+-----+----+-----+---+----+\n",
            "|Ticker|Date|Volume|Open|Low|High|Close|Year|Month|Day|Week|\n",
            "+------+----+------+----+---+----+-----+----+-----+---+----+\n",
            "+------+----+------+----+---+----+-----+----+-----+---+----+\n",
            "\n"
          ]
        }
      ]
    },
    {
      "cell_type": "code",
      "source": [
        "from pyspark.sql.functions import udf, col\n",
        "from pyspark.sql.types import IntegerType\n",
        "\n",
        "stocks = stocks.withColumn(\"Volume\", col(\"Volume\").cast(IntegerType()))"
      ],
      "metadata": {
        "id": "i6vQdWc7f_VO"
      },
      "execution_count": 137,
      "outputs": []
    },
    {
      "cell_type": "code",
      "source": [
        "# Remove potential header rows or problematic values\n",
        "cleaned_stocks = cleaned_stocks.filter(col(\"Open\") != \"Open\")"
      ],
      "metadata": {
        "id": "8cnAnHl9k-x5"
      },
      "execution_count": 167,
      "outputs": []
    },
    {
      "cell_type": "code",
      "source": [
        "cleaned_stocks = cleaned_stocks.withColumn(\"Open\", col(\"Open\").cast(\"float\")) \\\n",
        "                                .withColumn(\"Low\", col(\"Low\").cast(\"float\")) \\\n",
        "                                .withColumn(\"High\", col(\"High\").cast(\"float\")) \\\n",
        "                                .withColumn(\"Close\", col(\"Close\").cast(\"float\"))\n",
        "\n",
        "# Now, proceed with the calculation\n",
        "cleaned_stocks.groupBy(\"Ticker\").max(\"Low\").show(15)"
      ],
      "metadata": {
        "colab": {
          "base_uri": "https://localhost:8080/"
        },
        "collapsed": true,
        "id": "-y08XWFNk0b5",
        "outputId": "d82dd031-ffc9-4178-997b-c5d5054a0100"
      },
      "execution_count": 179,
      "outputs": [
        {
          "output_type": "stream",
          "name": "stdout",
          "text": [
            "+------+--------+\n",
            "|Ticker|max(Low)|\n",
            "+------+--------+\n",
            "+------+--------+\n",
            "\n"
          ]
        }
      ]
    },
    {
      "cell_type": "code",
      "source": [
        "from pyspark.sql.functions import col, max\n",
        "from pyspark.sql.types import FloatType\n",
        "\n",
        "# Remove potential header rows or problematic values\n",
        "# Filter before casting to avoid casting issues with the header row\n",
        "cleaned_stocks = cleaned_stocks.filter(col(\"Open\") != \"Open\")\n",
        "\n",
        "# Cast columns to the appropriate types\n",
        "cleaned_stocks = cleaned_stocks.withColumn(\"Open\", col(\"Open\").cast(FloatType())) \\\n",
        "                                .withColumn(\"Low\", col(\"Low\").cast(FloatType())) \\\n",
        "                                .withColumn(\"High\", col(\"High\").cast(FloatType())) \\\n",
        "                                .withColumn(\"Close\", col(\"Close\").cast(FloatType()))\n",
        "\n",
        "# Now, proceed with the calculation\n",
        "cleaned_stocks.groupBy(\"Ticker\").agg(max(\"Open\")).show(15)"
      ],
      "metadata": {
        "colab": {
          "base_uri": "https://localhost:8080/"
        },
        "collapsed": true,
        "id": "sFCQJfcB8zRr",
        "outputId": "bb0707f7-b501-4e1b-d673-2faa7401275a"
      },
      "execution_count": 169,
      "outputs": [
        {
          "output_type": "stream",
          "name": "stdout",
          "text": [
            "+------+---------+\n",
            "|Ticker|max(Open)|\n",
            "+------+---------+\n",
            "+------+---------+\n",
            "\n"
          ]
        }
      ]
    },
    {
      "cell_type": "code",
      "source": [
        "## Calculate maximum stock price for various stocks\n",
        "cleaned_stocks.groupBy(\"Ticker\").max(\"Open\").show(15)"
      ],
      "metadata": {
        "colab": {
          "base_uri": "https://localhost:8080/"
        },
        "collapsed": true,
        "id": "x69Zccil3kzp",
        "outputId": "61e638b3-099d-49a8-e1eb-dc080d9c95e2"
      },
      "execution_count": 170,
      "outputs": [
        {
          "output_type": "stream",
          "name": "stdout",
          "text": [
            "+------+---------+\n",
            "|Ticker|max(Open)|\n",
            "+------+---------+\n",
            "+------+---------+\n",
            "\n"
          ]
        }
      ]
    },
    {
      "cell_type": "code",
      "source": [
        "cleaned_stocks.groupBy(\"Ticker\").max(\"Open\").withColumnRenamed(\"max(Open)\", \"MaxStockPrice\").show(15)"
      ],
      "metadata": {
        "colab": {
          "base_uri": "https://localhost:8080/"
        },
        "collapsed": true,
        "id": "WWmftECi3mlp",
        "outputId": "a2d665ee-3ae0-45b3-b82d-365bee925f3d"
      },
      "execution_count": 171,
      "outputs": [
        {
          "output_type": "stream",
          "name": "stdout",
          "text": [
            "+------+-------------+\n",
            "|Ticker|MaxStockPrice|\n",
            "+------+-------------+\n",
            "+------+-------------+\n",
            "\n"
          ]
        }
      ]
    },
    {
      "cell_type": "code",
      "source": [
        "import pyspark.sql.functions as func\n",
        "cleaned_stocks.groupBy(\"Ticker\").agg(func.max(\"Open\").alias(\"MaxStockPrice\")).show(15)"
      ],
      "metadata": {
        "colab": {
          "base_uri": "https://localhost:8080/"
        },
        "collapsed": true,
        "id": "9Wud-XEe3oxq",
        "outputId": "82cb0d11-62b5-43b5-b352-0a01f3ead259"
      },
      "execution_count": 172,
      "outputs": [
        {
          "output_type": "stream",
          "name": "stdout",
          "text": [
            "+------+-------------+\n",
            "|Ticker|MaxStockPrice|\n",
            "+------+-------------+\n",
            "+------+-------------+\n",
            "\n"
          ]
        }
      ]
    },
    {
      "cell_type": "code",
      "source": [
        "cleaned_stocks.groupBy(\"Ticker\").agg(\n",
        "    func.max(\"Open\").alias(\"MaxStockPrice\"),\n",
        "    func.sum(\"Volume\").alias(\"TotalVolume\")\n",
        ").show(15)"
      ],
      "metadata": {
        "colab": {
          "base_uri": "https://localhost:8080/"
        },
        "collapsed": true,
        "id": "EUlU0Lgg3qYp",
        "outputId": "eb395e4d-b2eb-450e-fdd4-60f7c37be451"
      },
      "execution_count": 173,
      "outputs": [
        {
          "output_type": "stream",
          "name": "stdout",
          "text": [
            "+------+-------------+-----------+\n",
            "|Ticker|MaxStockPrice|TotalVolume|\n",
            "+------+-------------+-----------+\n",
            "+------+-------------+-----------+\n",
            "\n"
          ]
        }
      ]
    },
    {
      "cell_type": "code",
      "source": [
        "## Calculate maximum price of stocks each year => Basic date manipulation operation\n",
        "cleaned_stocks = (cleaned_stocks.withColumn(\"Year\", func.year(cleaned_stocks.Date))\n",
        "                                .withColumn(\"Month\", func.month(cleaned_stocks.Date))\n",
        "                                .withColumn(\"Day\", func.dayofmonth(cleaned_stocks.Date))\n",
        "                                .withColumn(\"Week\", func.weekofyear(cleaned_stocks.Date))\n",
        "                 )"
      ],
      "metadata": {
        "id": "_I7N7BKe3vGe"
      },
      "execution_count": 175,
      "outputs": []
    },
    {
      "cell_type": "code",
      "source": [
        "\n",
        "cleaned_stocks.show(10)"
      ],
      "metadata": {
        "colab": {
          "base_uri": "https://localhost:8080/"
        },
        "collapsed": true,
        "id": "jIoD3aQA3xiG",
        "outputId": "09517650-1fad-4498-926f-498b1b8c6dc5"
      },
      "execution_count": 176,
      "outputs": [
        {
          "output_type": "stream",
          "name": "stdout",
          "text": [
            "+------+----+------+----+---+----+-----+----+-----+---+----+\n",
            "|Ticker|Date|Volume|Open|Low|High|Close|Year|Month|Day|Week|\n",
            "+------+----+------+----+---+----+-----+----+-----+---+----+\n",
            "+------+----+------+----+---+----+-----+----+-----+---+----+\n",
            "\n"
          ]
        }
      ]
    },
    {
      "cell_type": "code",
      "source": [
        "yearly = cleaned_stocks.groupBy(['Ticker', 'Year']).agg(func.max(\"Open\").alias(\"YearlHigh\"), func.min(\"Open\").alias(\"YearlyLow\"))"
      ],
      "metadata": {
        "id": "UMGvhodN3zyn"
      },
      "execution_count": 177,
      "outputs": []
    },
    {
      "cell_type": "code",
      "source": [
        "\n",
        "yearly.show()"
      ],
      "metadata": {
        "colab": {
          "base_uri": "https://localhost:8080/"
        },
        "collapsed": true,
        "id": "O1dOXTdN314_",
        "outputId": "0be5f56a-9719-4041-aec5-ca1a2ab0582c"
      },
      "execution_count": 178,
      "outputs": [
        {
          "output_type": "stream",
          "name": "stdout",
          "text": [
            "+------+----+---------+---------+\n",
            "|Ticker|Year|YearlHigh|YearlyLow|\n",
            "+------+----+---------+---------+\n",
            "+------+----+---------+---------+\n",
            "\n"
          ]
        }
      ]
    },
    {
      "cell_type": "code",
      "source": [
        "## Calculate average stock price for stock each month\n",
        "monthly = cleaned_stocks.groupBy(['Ticker', 'Year', 'Month']).agg(func.max(\"Open\").alias(\"MonthHigh\"), func.min(\"Open\").alias(\"MonthLow\"))\n",
        "weekly = cleaned_stocks.groupBy(['Ticker', 'Year', 'Week']).agg(func.max(\"Open\").alias(\"WeekHigh\"), func.min(\"Open\").alias(\"WeekLow\"))"
      ],
      "metadata": {
        "id": "dXqzQqDx355S"
      },
      "execution_count": null,
      "outputs": []
    },
    {
      "cell_type": "code",
      "source": [
        "monthly.show()"
      ],
      "metadata": {
        "id": "vxEtCg_3371C"
      },
      "execution_count": null,
      "outputs": []
    },
    {
      "cell_type": "code",
      "source": [
        "weekly.show()"
      ],
      "metadata": {
        "id": "9iFfNcr84QCy"
      },
      "execution_count": null,
      "outputs": []
    },
    {
      "cell_type": "code",
      "source": [
        "weekly.withColumn(\"Spread\", weekly['WeekHigh'] - weekly['WeekLow']).show()"
      ],
      "metadata": {
        "id": "2qfVj3kz4UF7"
      },
      "execution_count": null,
      "outputs": []
    },
    {
      "cell_type": "code",
      "source": [
        "# Joins\n",
        "cleaned_stocks.join(yearly,\n",
        "                                      (cleaned_stocks.Ticker==yearly.Ticker) & (cleaned_stocks.Year == yearly.Year),\n",
        "                                      'inner'\n",
        "                                     ).show()"
      ],
      "metadata": {
        "id": "8syPtHvY4XN5"
      },
      "execution_count": null,
      "outputs": []
    },
    {
      "cell_type": "code",
      "source": [
        "cleaned_stocks.join(yearly,\n",
        "                    (cleaned_stocks.Ticker==yearly.Ticker) & (cleaned_stocks.Year == yearly.Year),\n",
        "                    'inner'\n",
        "                   ).drop(yearly.Year, yearly.Ticker).show()"
      ],
      "metadata": {
        "id": "tbCAqSlX4iWy"
      },
      "execution_count": null,
      "outputs": []
    },
    {
      "cell_type": "code",
      "source": [
        "historic_stocks = cleaned_stocks.join(yearly,\n",
        "                    (cleaned_stocks.Ticker==yearly.Ticker) & (cleaned_stocks.Year == yearly.Year),\n",
        "                    'inner'\n",
        "                   ).drop(yearly.Year, yearly.Ticker)"
      ],
      "metadata": {
        "id": "g6FqKEpz4kOr"
      },
      "execution_count": null,
      "outputs": []
    },
    {
      "cell_type": "code",
      "source": [
        "\n",
        "historic_stocks.show(5)"
      ],
      "metadata": {
        "id": "IUC3aQ-T4l0h"
      },
      "execution_count": null,
      "outputs": []
    },
    {
      "cell_type": "code",
      "source": [
        "cond = [(historic_stocks.Ticker==weekly.Ticker) & (historic_stocks.Year == weekly.Year) & (historic_stocks.Week == weekly.Week)]\n",
        "historic_stocks = historic_stocks.join(weekly, cond, 'inner').drop(weekly.Year, historic_stocks.Ticker, weekly.Week)"
      ],
      "metadata": {
        "id": "rxItO-xc4nVC"
      },
      "execution_count": null,
      "outputs": []
    },
    {
      "cell_type": "code",
      "source": [
        "historic_stocks.show(5)"
      ],
      "metadata": {
        "id": "2tc8RjzW5qIS"
      },
      "execution_count": null,
      "outputs": []
    },
    {
      "cell_type": "code",
      "source": [
        "historic_stocks = historic_stocks.join(monthly, ['Ticker', 'Year', 'Month'])"
      ],
      "metadata": {
        "id": "hUDW1q3r5sFi"
      },
      "execution_count": null,
      "outputs": []
    },
    {
      "cell_type": "code",
      "source": [
        "historic_stocks.columns"
      ],
      "metadata": {
        "id": "wSYDcvsp5ueC"
      },
      "execution_count": null,
      "outputs": []
    },
    {
      "cell_type": "code",
      "source": [
        "final_stocks = historic_stocks.select(['Ticker', 'Year',\n",
        " 'Month', 'Day', 'Week', 'Volume','Open','Low','High','Close', 'YearlHigh','YearlyLow','WeekHigh','WeekLow',\n",
        " 'MonthHigh','MonthLow'])"
      ],
      "metadata": {
        "id": "AWuhvdgn5wDs"
      },
      "execution_count": null,
      "outputs": []
    },
    {
      "cell_type": "code",
      "source": [
        "\n",
        "final_stocks = historic_stocks.select(['Ticker', 'Year',\n",
        " 'Month', 'Day', 'Week', 'Volume','Open','Low','High','Close', 'YearlHigh','YearlyLow','WeekHigh','WeekLow',\n",
        " 'MonthHigh','MonthLow'])\n",
        "final_stocks.show(5)"
      ],
      "metadata": {
        "id": "b3m2z6BA5x0c"
      },
      "execution_count": null,
      "outputs": []
    },
    {
      "cell_type": "code",
      "source": [
        "final_stocks.createOrReplaceTempView('stockData')"
      ],
      "metadata": {
        "id": "oTyL6pud50O1"
      },
      "execution_count": null,
      "outputs": []
    },
    {
      "cell_type": "code",
      "source": [
        "\n",
        "spark.sql(\"SELECT * FROM stockData where Ticker='MSFT' and Year='2023'\").show(5)"
      ],
      "metadata": {
        "id": "ATJ6pyFT546s"
      },
      "execution_count": null,
      "outputs": []
    }
  ]
}